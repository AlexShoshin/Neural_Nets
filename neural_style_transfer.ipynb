{
  "nbformat": 4,
  "nbformat_minor": 0,
  "metadata": {
    "colab": {
      "name": "neural_style_transfer.ipynb",
      "provenance": [],
      "collapsed_sections": [],
      "toc_visible": true
    },
    "kernelspec": {
      "name": "python3",
      "display_name": "Python 3"
    },
    "accelerator": "GPU"
  },
  "cells": [
    {
      "cell_type": "markdown",
      "metadata": {
        "id": "hmcXONqobY0s",
        "colab_type": "text"
      },
      "source": [
        "# Neural Style Transfer\n"
      ]
    },
    {
      "cell_type": "code",
      "metadata": {
        "id": "Gw3JDuBrbdNT",
        "colab_type": "code",
        "outputId": "84ec05ad-07fa-4d50-bfbd-1df10cb2148e",
        "colab": {
          "base_uri": "https://localhost:8080/",
          "height": 62
        }
      },
      "source": [
        "import tensorflow as tf\n",
        "import matplotlib.pyplot as plt\n",
        "from PIL import Image\n",
        "import numpy as np\n",
        "from utils import nst\n",
        "import cv2\n",
        "%matplotlib inline"
      ],
      "execution_count": 0,
      "outputs": [
        {
          "output_type": "display_data",
          "data": {
            "text/html": [
              "<p style=\"color: red;\">\n",
              "The default version of TensorFlow in Colab will soon switch to TensorFlow 2.x.<br>\n",
              "We recommend you <a href=\"https://www.tensorflow.org/guide/migrate\" target=\"_blank\">upgrade</a> now \n",
              "or ensure your notebook will continue to use TensorFlow 1.x via the <code>%tensorflow_version 1.x</code> magic:\n",
              "<a href=\"https://colab.research.google.com/notebooks/tensorflow_version.ipynb\" target=\"_blank\">more info</a>.</p>\n"
            ],
            "text/plain": [
              "<IPython.core.display.HTML object>"
            ]
          },
          "metadata": {
            "tags": []
          }
        }
      ]
    },
    {
      "cell_type": "markdown",
      "metadata": {
        "id": "W-8rVzQnoGzk",
        "colab_type": "text"
      },
      "source": [
        "There are two types of costs: content and style"
      ]
    },
    {
      "cell_type": "code",
      "metadata": {
        "id": "e0AV1QXAoMzc",
        "colab_type": "code",
        "colab": {}
      },
      "source": [
        "def content_cost(a_C, a_G):\n",
        "  \"\"\"\n",
        "  Computes the content cost\n",
        "\n",
        "  a_C - tensor representing content of image C\n",
        "  a_G - tensor representing content of image G\n",
        "  \"\"\"\n",
        "\n",
        "  m, n_H, n_W, n_C = a_G.get_shape().as_list()\n",
        "\n",
        "  a_C_unr = tf.reshape(a_C, shape=[m, -1, n_C])\n",
        "  a_G_unr = tf.reshape(a_G, shape=[m, -1, n_C])\n",
        "\n",
        "  J_content = tf.reduce_sum(tf.square(tf.subtract(a_C_unr, a_G_unr))) / (4 * n_W * n_C * n_H)\n",
        "\n",
        "  return J_content\n"
      ],
      "execution_count": 0,
      "outputs": []
    },
    {
      "cell_type": "code",
      "metadata": {
        "id": "kRGvUxZtpuwR",
        "colab_type": "code",
        "colab": {}
      },
      "source": [
        "def layer_style_coct(a_C, a_G):\n",
        "  \"\"\"\n",
        "  Computes the style cost for one layer\n",
        "\n",
        "  a_C - tensor representing content of image C\n",
        "  a_G - tensor representing content of image G\n",
        "\n",
        "  \"\"\"\n",
        "  m, n_H, n_W, n_C = a_G.get_shape().as_list()\n",
        "\n",
        "  a_C = tf.transpose(tf.reshape(a_C, shape=[-1, n_C]), perm=[1, 0])\n",
        "  a_G = tf.transpose(tf.reshape(a_G, shape=[-1, n_C]), perm=[1, 0])\n",
        "\n",
        "  #computing Gram matix\n",
        "  GC = tf.matmul(a_C, tf.transpose(a_C))\n",
        "  GG = tf.matmul(a_G, tf.transpose(a_G))\n",
        "\n",
        "  J_style_for_layer = tf.reduce_sum(tf.square(tf.subtract(GC, GG))) / (4 * (n_C * n_W * n_H)**2)\n",
        "\n",
        "  return J_style_for_layer\n",
        "\n"
      ],
      "execution_count": 0,
      "outputs": []
    },
    {
      "cell_type": "code",
      "metadata": {
        "id": "5uNoKhfns9gW",
        "colab_type": "code",
        "colab": {}
      },
      "source": [
        "#let's define weight of costs for each conv_layer (with different depth in net)\n",
        "#for now they represent the same value for all of them\n",
        "LAYER_WEIGHTS = [\n",
        "    ('conv1_1', 0.2),\n",
        "    ('conv2_1', 0.2),\n",
        "    ('conv3_1', 0.2),\n",
        "    ('conv4_1', 0.2),\n",
        "    ('conv5_1', 0.2)]"
      ],
      "execution_count": 0,
      "outputs": []
    },
    {
      "cell_type": "code",
      "metadata": {
        "id": "JfI01LDssupA",
        "colab_type": "code",
        "colab": {}
      },
      "source": [
        "def full_style_cost(model, LAYER_WEIGHTS):\n",
        "  \"\"\"\n",
        "  Computes full style cost between two images\n",
        "  \"\"\"\n",
        "  J_style = 0\n",
        "\n",
        "  for layer_name, weight in LAYER_WEIGHTS:\n",
        "    out = model[layer_name]\n",
        "\n",
        "    a_C = sess.run(out)\n",
        "    a_G = out\n",
        "\n",
        "    J_style += weight * layer_style_coct(a_C, a_G)\n",
        "\n",
        "  return J_style\n",
        "\n"
      ],
      "execution_count": 0,
      "outputs": []
    },
    {
      "cell_type": "code",
      "metadata": {
        "id": "_ODiiqjLua0g",
        "colab_type": "code",
        "colab": {}
      },
      "source": [
        "def total_cost(J_content, J_style, coeff_1 = 10, coeff_2 = 120):\n",
        "  \"\"\"\n",
        "  Computes full cost, weighting between content(coeff_1) and style(coeff_2)\n",
        "  \"\"\"\n",
        "\n",
        "  return coeff_1 * J_content + coeff_2 * J_style"
      ],
      "execution_count": 0,
      "outputs": []
    },
    {
      "cell_type": "code",
      "metadata": {
        "id": "B_Aq11u1u-nD",
        "colab_type": "code",
        "colab": {}
      },
      "source": [
        "#start interactive session\n",
        "tf.reset_default_graph()\n",
        "sess = tf.InteractiveSession()"
      ],
      "execution_count": 0,
      "outputs": []
    },
    {
      "cell_type": "code",
      "metadata": {
        "id": "2a4Xc05Yw7I_",
        "colab_type": "code",
        "colab": {}
      },
      "source": [
        "content_image = cv2.imread('content/me.jpg')\n",
        "content_image = nst.reshape_and_normalize_image(content_image)\n"
      ],
      "execution_count": 0,
      "outputs": []
    },
    {
      "cell_type": "code",
      "metadata": {
        "id": "nTqs-y1Z7D4I",
        "colab_type": "code",
        "colab": {}
      },
      "source": [
        "style_image = cv2.imread(\"style/scream.jpg\")\n",
        "style_image = nst.reshape_and_normalize_image(style_image)"
      ],
      "execution_count": 0,
      "outputs": []
    },
    {
      "cell_type": "code",
      "metadata": {
        "id": "JHNXKpfQ8xvC",
        "colab_type": "code",
        "colab": {}
      },
      "source": [
        "generated_image = nst.generate_noise_image(content_image)"
      ],
      "execution_count": 0,
      "outputs": []
    },
    {
      "cell_type": "code",
      "metadata": {
        "id": "-xspCiXl9JlB",
        "colab_type": "code",
        "outputId": "4b145e7e-614f-4018-fa3b-52ee61895aad",
        "colab": {
          "base_uri": "https://localhost:8080/",
          "height": 50
        }
      },
      "source": [
        "model = nst.load_vgg_model(\"pretrained_model/imagenet-vgg-verydeep-19.mat\")"
      ],
      "execution_count": 0,
      "outputs": [
        {
          "output_type": "stream",
          "text": [
            "WARNING:tensorflow:From /content/utils/nst.py:124: The name tf.nn.avg_pool is deprecated. Please use tf.nn.avg_pool2d instead.\n",
            "\n"
          ],
          "name": "stdout"
        }
      ]
    },
    {
      "cell_type": "code",
      "metadata": {
        "id": "BXVygwHZ9R8C",
        "colab_type": "code",
        "colab": {}
      },
      "source": [
        "sess.run(model['input'].assign(content_image))\n",
        "out = model['conv4_2']\n",
        "a_C = sess.run(out)\n",
        "a_G = out\n",
        "\n",
        "J_content = content_cost(a_C, a_G)\n",
        "\n",
        "sess.run(model['input'].assign(style_image))\n",
        "J_style = full_style_cost(model, LAYER_WEIGHTS)"
      ],
      "execution_count": 0,
      "outputs": []
    },
    {
      "cell_type": "code",
      "metadata": {
        "id": "o2OQhR9a-KFW",
        "colab_type": "code",
        "colab": {}
      },
      "source": [
        "J = total_cost(J_content, J_style)"
      ],
      "execution_count": 0,
      "outputs": []
    },
    {
      "cell_type": "code",
      "metadata": {
        "id": "ZYgYRgQK-uPl",
        "colab_type": "code",
        "colab": {}
      },
      "source": [
        "lr = 2\n",
        "optimizer = tf.train.AdamOptimizer(lr)\n",
        "train_step = optimizer.minimize(J)"
      ],
      "execution_count": 0,
      "outputs": []
    },
    {
      "cell_type": "markdown",
      "metadata": {
        "id": "Y_5hKgkB_Cv1",
        "colab_type": "text"
      },
      "source": [
        "Eventually, the model"
      ]
    },
    {
      "cell_type": "code",
      "metadata": {
        "id": "__6jzClE-9ro",
        "colab_type": "code",
        "colab": {}
      },
      "source": [
        "def nst_model(sess, input_img, num_iters = 4201):\n",
        "  sess.run(tf.global_variables_initializer())\n",
        "  sess.run(model['input'].assign(input_img))\n",
        "\n",
        "  for i in range(num_iters):\n",
        "    #let's use the learning rate decay\n",
        "    lr = 2 / (1 + i / 1000)\n",
        "    optimizer = tf.train.AdamOptimizer(learning_rate = lr)\n",
        "    \n",
        "\n",
        "    sess.run(train_step)\n",
        "    generated_image = sess.run(model[\"input\"])\n",
        "\n",
        "    if(i % 100 == 0):\n",
        "      Jt, Jc, Js = sess.run([J, J_content, J_style])\n",
        "      print(\"Iteration \" + str(i) + \" :\")\n",
        "      print(\"total cost = \" + str(Jt))\n",
        "      print(\"content cost = \" + str(Jc))\n",
        "      print(\"style cost = \" + str(Js))\n",
        "            \n",
        "      nst.save_image(\"output/\" + str(i) + \".jpg\", generated_image)"
      ],
      "execution_count": 0,
      "outputs": []
    },
    {
      "cell_type": "code",
      "metadata": {
        "id": "TxIhtbhR_yUn",
        "colab_type": "code",
        "outputId": "e2e14c2e-9e36-4a89-bbdd-95f47ea9d7f3",
        "colab": {
          "base_uri": "https://localhost:8080/",
          "height": 420
        }
      },
      "source": [
        "nst_model(sess, generated_image)"
      ],
      "execution_count": 0,
      "outputs": [
        {
          "output_type": "stream",
          "text": [
            "Iteration 0 :\n",
            "total cost = 210223.84\n",
            "content cost = 8356.866\n",
            "style cost = 1055.4598\n",
            "Iteration 100 :\n",
            "total cost = 42628.223\n",
            "content cost = 3303.9243\n",
            "style cost = 79.908165\n",
            "Iteration 200 :\n",
            "total cost = 34530.992\n",
            "content cost = 2537.5667\n",
            "style cost = 76.29439\n",
            "Iteration 300 :\n",
            "total cost = 32269.29\n",
            "content cost = 2313.7773\n",
            "style cost = 76.09597\n",
            "Iteration 400 :\n",
            "total cost = 30847.926\n",
            "content cost = 2191.4949\n",
            "style cost = 74.44146\n",
            "Iteration 500 :\n",
            "total cost = 30318.379\n",
            "content cost = 2148.8337\n",
            "style cost = 73.58367\n"
          ],
          "name": "stdout"
        }
      ]
    },
    {
      "cell_type": "code",
      "metadata": {
        "id": "oKoji90N_9Jb",
        "colab_type": "code",
        "colab": {}
      },
      "source": [
        ""
      ],
      "execution_count": 0,
      "outputs": []
    }
  ]
}